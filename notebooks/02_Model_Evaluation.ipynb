{
 "cells": [
  {
   "cell_type": "markdown",
   "id": "cc83b860-47f7-43cc-ae52-05187bd55ed9",
   "metadata": {},
   "source": [
    "# Tensorflow Tensorflow Image Classifier\n",
    "\n",
    "## Model Evaluation"
   ]
  },
  {
   "cell_type": "markdown",
   "id": "445ef336-102d-4758-b1ba-cdfc41a6d41e",
   "metadata": {},
   "source": [
    "[Keras Applications](https://keras.io/api/applications/) are deep learning models that are made available alongside pre-trained weights. These models can be used for prediction, feature extraction, and fine-tuning.\n",
    "\n",
    "Weights are downloaded automatically when instantiating a model. They are stored at `~/.keras/models/`:\n",
    "\n",
    "\n",
    "### Available Models - Excerp\n",
    "\n",
    "| Model | Size (MB) | Top-1 Accuracy | Top-5 Accuracy | Parameters | Depth | Time (ms) per inference step (CPU) | Time (ms) per inference step (GPU) |\n",
    "| -- | -- | -- | -- | -- | -- | -- | -- |\n",
    "| Xception | 88 | 79.0% | 94.5% | 22.9M | 81 | 109.4 | 8.1 |\n",
    "| ResNet50V2 | 98 | 76.0% | 93.0% | 25.6M | 103 | 45.6 | 4.4 |\n",
    "| InceptionV3 | 92 | 77.9% | 93.7% | 23.9M | 189 | 42.2 | 6.9 |\n",
    "| MobileNet | 16 | 70.4% | 89.5% | 4.3M | 55 | 22.6 | 3.4 |\n",
    "| MobileNetV2 | 14 | 71.3% | 90.1% | 3.5M | 105 | 25.9 | 3.8 |\n",
    "| NASNetMobile | 23 | 74.4% | 91.9% | 5.3M | 389 | 27.0 | 6.7 |\n",
    "| EfficientNetV2B0 | 29 | 78.7% | 94.3% | 7.2M | - | - | - |\n",
    "| EfficientNetV2B1 | 34 | 79.8% | 95.0% | 8.2M | - | - | - |\n",
    "| EfficientNetV2B2 | 42 | 80.5% | 95.1% | 10.2M | - | - | - |\n",
    "| EfficientNetV2B3 | 59 | 82.0% | 95.8% | 14.5M | - | - | - |\n",
    "| EfficientNetV2S | 88 | 83.9% | 96.7% | 21.6M | - | - | - |\n",
    "| EfficientNetV2M | 220 | 85.3% | 97.4% | 54.4M | - | - | - |\n",
    "| EfficientNetV2L | 479 | 85.7% | 97.5% | 119.0M | - | - | - |"
   ]
  },
  {
   "cell_type": "markdown",
   "id": "a2d1edba-04ab-4fe5-a877-31875fbba1b4",
   "metadata": {},
   "source": [
    "### Used Models\n",
    "\n",
    "* EfficientNetV2B0\n",
    "* EfficientNetV2S\n",
    "* Xception\n",
    "* InceptionV3\n",
    "* NASNetMobile\n",
    "* MobileNetV3Small\n",
    "* MobileNetV3Large\n",
    "* MobileNetV2\n",
    "* vit-base-patch16-224\n",
    "* DeiT"
   ]
  },
  {
   "cell_type": "code",
   "execution_count": null,
   "id": "a09f3cf3",
   "metadata": {},
   "outputs": [],
   "source": [
    "!pip install pandas seaborn"
   ]
  },
  {
   "cell_type": "code",
   "execution_count": null,
   "id": "bc9609cb-d6ef-4dff-ad28-a4fe9a589d10",
   "metadata": {},
   "outputs": [],
   "source": [
    "import matplotlib.pyplot as plt\n",
    "import pandas as pd\n",
    "import seaborn as sns"
   ]
  },
  {
   "cell_type": "markdown",
   "id": "485d6c77-3942-407a-94d7-937f704f66a7",
   "metadata": {},
   "source": [
    "## Model Metrics"
   ]
  },
  {
   "cell_type": "code",
   "execution_count": null,
   "id": "826c8a5e-8edc-44f4-8391-2ec3a3f67292",
   "metadata": {},
   "outputs": [],
   "source": [
    "model_metrics = [\n",
    "    [ 'MobileNetV3Small', 0.3474, 0.9178, 16.753, 75, 260, 7, 76 ],\n",
    "    [ 'MobileNetV3Large', 0.0658, 0.9930, 34.593, 58, 206, 5, 40 ],\n",
    "    [ 'MobileNetV2', 1.2054, 0.6573, 47.857, 96, 331, 8, 79 ],\n",
    "    [ 'EfficientNetV2B0', 0.3779, 0.9084, 45.989, 47, 164, 8, 68 ],\n",
    "    [ 'EfficientNetV2S', 0.3431, 0.9013, 107.201, 66, 230, 21, 178 ],\n",
    "    [ 'Xception', 0.6363, 0.8188, 110.849, 69, 240, 18, 173 ],\n",
    "    [ 'InceptionV3', 2.7047, 0.3087, 108.297, 48, 167, 10, 85 ],\n",
    "    [ 'NASNetMobile', 3.2046, 0.1838, 38.513, 247, 857, 41, 423 ],\n",
    "    [ 'ViT', 0.5979, 0.8589, 350.537, 172, 597, 21, 203 ],\n",
    "    [ 'DeiT', 0.7199, 0.7900, 350.737, 174, 604, 21, 204 ]\n",
    "]\n",
    "\n",
    "data_columns = [\n",
    "    'Model',\n",
    "    'Loss',\n",
    "    'Accuracy',\n",
    "    'Tf Model Size [MB]',\n",
    "    'Training Training Set [s]',\n",
    "    'Training [ms/step]',\n",
    "    'Prediction Validation Set [s]',\n",
    "    'Prediction [ms/step]'\n",
    "]\n",
    "model_metrics_df = pd.DataFrame(model_metrics, columns=data_columns)\n",
    "model_metrics_df = model_metrics_df.set_index('Model')\n",
    "\n",
    "\n",
    "\n",
    "model_metrics_df"
   ]
  },
  {
   "cell_type": "markdown",
   "id": "549395e3-beef-463c-a450-e026abfd38c7",
   "metadata": {},
   "source": [
    "| Model | Loss | Accuracy | Tf Model Size [MB] | Training Training Set [s] | Training [ms/step] | Prediction Validation Set [s] | Prediction [ms/step] |\n",
    "| -- | -- | -- | -- | -- | -- | -- | -- |\n",
    "| MobileNetV3Small | 0.3474 | 0.9178 | 16.753 | 75 | 260 | 7 | 76 |\n",
    "| MobileNetV3Large | 0.0658 | 0.9930 | 34.593 | 58 | 206 | 5 | 40 |\n",
    "| MobileNetV2 | 1.2054 | 0.6573 | 47.857 | 96 | 331 | 8 | 79 |\n",
    "| EfficientNetV2B0 | 0.3779 | 0.9084 | 45.989 | 47 | 164 | 8 | 68 |\n",
    "| EfficientNetV2S | 0.3431 | 0.9013 | 107.201 | 66 | 230 | 21 | 178 |\n",
    "| Xception | 0.6363 | 0.8188 | 110.849 | 69 | 240 | 18 | 173 |\n",
    "| InceptionV3 | 2.7047 | 0.3087 | 108.297 | 48 | 167 | 10 | 85 |\n",
    "| NASNetMobile | 3.2046 | 0.1838 | 38.513 | 247 | 857 | 41 | 423 |\n",
    "| ViT | 0.5979 | 0.8589 | 350.537 | 172 | 597 | 21 | 203 |\n",
    "| DeiT | 0.7199 | 0.7900 | 350.737 | 174 | 604 | 21 | 204 |"
   ]
  },
  {
   "cell_type": "code",
   "execution_count": null,
   "id": "349e9527-6ba1-4dc4-9256-2cc1e57d2659",
   "metadata": {},
   "outputs": [],
   "source": [
    "plt.figure(figsize=(12, 5))\n",
    "\n",
    "sns.set(style='darkgrid')\n",
    "\n",
    "sns.scatterplot(\n",
    "    x='Tf Model Size [MB]',\n",
    "    y='Accuracy',\n",
    "    data=model_metrics_df,\n",
    "    s=100,\n",
    "    alpha=1,\n",
    "    hue='Model',\n",
    "    palette='nipy_spectral'\n",
    ").set_title('Accuracy vs Model Size')\n",
    "\n",
    "plt.savefig('./assets/Model_Eval_04.webp', bbox_inches='tight')"
   ]
  },
  {
   "cell_type": "markdown",
   "id": "353c2967-9c5d-45b9-a5b6-a5faa7cf871a",
   "metadata": {},
   "source": [
    "![Model Evaluation](./assets/Model_Eval_04.webp)"
   ]
  },
  {
   "cell_type": "code",
   "execution_count": null,
   "id": "2f60eea0-a160-4b5b-9f18-662f0a0256e3",
   "metadata": {},
   "outputs": [],
   "source": [
    "plt.figure(figsize=(12, 5))\n",
    "\n",
    "sns.set(style='darkgrid')\n",
    "\n",
    "sns.scatterplot(\n",
    "    x='Tf Model Size [MB]',\n",
    "    y='Loss',\n",
    "    data=model_metrics_df,\n",
    "    s=100,\n",
    "    alpha=1,\n",
    "    hue='Model',\n",
    "    palette='nipy_spectral'\n",
    ").set_title('Loss vs Model Size')\n",
    "\n",
    "plt.savefig('./assets/Model_Eval_05.webp', bbox_inches='tight')"
   ]
  },
  {
   "cell_type": "markdown",
   "id": "bba3a601-2121-495d-8d8d-798566ab878a",
   "metadata": {},
   "source": [
    "![Model Evaluation](./assets/Model_Eval_05.webp)"
   ]
  },
  {
   "cell_type": "code",
   "execution_count": null,
   "id": "8382ee9b-d154-44c9-8322-aef4b4e8910b",
   "metadata": {},
   "outputs": [],
   "source": [
    "plt.figure(figsize=(12, 5))\n",
    "\n",
    "sns.set(style='darkgrid')\n",
    "\n",
    "sns.scatterplot(\n",
    "    x='Training [ms/step]',\n",
    "    y='Accuracy',\n",
    "    data=model_metrics_df,\n",
    "    s=100,\n",
    "    alpha=1,\n",
    "    hue='Model',\n",
    "    palette='nipy_spectral'\n",
    ").set_title('Accuracy vs Training Time')\n",
    "\n",
    "plt.savefig('./assets/Model_Eval_06.webp', bbox_inches='tight')"
   ]
  },
  {
   "cell_type": "markdown",
   "id": "c98ee740-5d46-4ff4-9f4b-083de8e72b17",
   "metadata": {},
   "source": [
    "![Model Evaluation](./assets/Model_Eval_06.webp)"
   ]
  },
  {
   "cell_type": "code",
   "execution_count": null,
   "id": "aa0832a9-e4f6-4c24-96fb-4aa54894d694",
   "metadata": {},
   "outputs": [],
   "source": [
    "plt.figure(figsize=(12, 5))\n",
    "\n",
    "sns.set(style='darkgrid')\n",
    "\n",
    "sns.scatterplot(\n",
    "    x='Prediction [ms/step]',\n",
    "    y='Accuracy',\n",
    "    data=model_metrics_df,\n",
    "    s=100,\n",
    "    alpha=1,\n",
    "    hue='Model',\n",
    "    palette='nipy_spectral'\n",
    ").set_title('Loss vs Prediction Time')\n",
    "\n",
    "plt.savefig('./assets/Model_Eval_07.webp', bbox_inches='tight')"
   ]
  },
  {
   "cell_type": "markdown",
   "id": "5cfc2579-738f-4457-b0c9-d8fdfb350444",
   "metadata": {},
   "source": [
    "![Model Evaluation](./assets/Model_Eval_07.webp)"
   ]
  },
  {
   "cell_type": "markdown",
   "id": "4b8c0af6-9a5c-43e6-a59f-4e8050e3183d",
   "metadata": {},
   "source": [
    "### Loss Curves"
   ]
  },
  {
   "cell_type": "code",
   "execution_count": null,
   "id": "36c53102-3a9f-4049-9363-789aca2f98c7",
   "metadata": {},
   "outputs": [],
   "source": [
    "loss_curves = [\n",
    "    [ 'MobileNetV3Small', './assets/MobileNetV3Small_FT_01.webp' ],\n",
    "    [ 'MobileNetV3Large', './assets/MobileNetV3Large_FT_01.webp' ],\n",
    "    [ 'EfficientNetV2B0', './assets/EfficientNetV2B0_01.webp' ],\n",
    "    [ 'EfficientNetV2S', './assets/EfficientNetV2S_01.webp' ],\n",
    "    [ 'Xception', './assets/Xception_01.webp' ],\n",
    "    [ 'InceptionV3', './assets/InceptionV3_FT_01.webp' ],\n",
    "    [ 'NASNetMobile', './assets/NASNetMobile_FT_01.webp' ],\n",
    "    [ 'MobileNetV2', './assets/MobileNetV2_FT_01.webp' ],\n",
    "    [ 'ViT', './assets/ViT_01.webp' ],\n",
    "    [ 'DeiT', './assets/DeiT_01.webp' ]\n",
    "]"
   ]
  },
  {
   "cell_type": "code",
   "execution_count": null,
   "id": "a8a812b6-bb60-418a-8f41-42ea1a035476",
   "metadata": {
    "scrolled": true
   },
   "outputs": [],
   "source": [
    "plt.figure(figsize=(16,5))\n",
    "\n",
    "for model, curve in loss_curves:\n",
    "    for i in range(len(loss_curves)):\n",
    "        ax = plt.subplot(2,5,i+1)\n",
    "        plt.title(loss_curves[i][0])\n",
    "        image = plt.imread(loss_curves[i][1])\n",
    "        plt.imshow(image)\n",
    "        plt.axis('off')\n",
    "        \n",
    "plt.savefig('./assets/Model_Eval_01.webp', bbox_inches='tight')"
   ]
  },
  {
   "cell_type": "markdown",
   "id": "93e349de-d062-4024-b1e7-f51163058d7e",
   "metadata": {},
   "source": [
    "![Model Evaluation](./assets/Model_Eval_01.webp)"
   ]
  },
  {
   "cell_type": "markdown",
   "id": "c1d34ee4-547e-48fb-b608-59a8af891016",
   "metadata": {},
   "source": [
    "### Accuracy Curves"
   ]
  },
  {
   "cell_type": "code",
   "execution_count": null,
   "id": "0ed9d777-de97-45e3-9f0a-62fa5937df42",
   "metadata": {},
   "outputs": [],
   "source": [
    "accuracy_curves = [\n",
    "    [ 'MobileNetV3Small', './assets/MobileNetV3Small_FT_02.webp' ],\n",
    "    [ 'MobileNetV3Large', './assets/MobileNetV3Large_FT_02.webp' ],\n",
    "    [ 'EfficientNetV2B0', './assets/EfficientNetV2B0_02.webp' ],\n",
    "    [ 'EfficientNetV2S', './assets/EfficientNetV2S_02.webp' ],\n",
    "    [ 'Xception', './assets/Xception_02.webp' ],\n",
    "    [ 'InceptionV3', './assets/InceptionV3_FT_02.webp' ],\n",
    "    [ 'NASNetMobile', './assets/NASNetMobile_FT_02.webp' ],\n",
    "    [ 'MobileNetV2', './assets/MobileNetV2_FT_02.webp' ],\n",
    "    [ 'ViT', './assets/ViT_02.webp' ],\n",
    "    [ 'DeiT', './assets/DeiT_02.webp' ]\n",
    "]"
   ]
  },
  {
   "cell_type": "code",
   "execution_count": null,
   "id": "11b3cbb1-409a-4682-8ab6-7ebcff18defc",
   "metadata": {
    "scrolled": true
   },
   "outputs": [],
   "source": [
    "plt.figure(figsize=(16,5))\n",
    "\n",
    "for model, curve in accuracy_curves:\n",
    "    for i in range(len(accuracy_curves)):\n",
    "        ax = plt.subplot(2,5,i+1)\n",
    "        plt.title(accuracy_curves[i][0])\n",
    "        image = plt.imread(accuracy_curves[i][1])\n",
    "        plt.imshow(image)\n",
    "        plt.axis('off')\n",
    "        \n",
    "plt.savefig('./assets/Model_Eval_02.webp', bbox_inches='tight')"
   ]
  },
  {
   "cell_type": "markdown",
   "id": "aa14d439-aa13-48d5-b4a8-95714d4a8ba4",
   "metadata": {},
   "source": [
    "![Model Evaluation](./assets/Model_Eval_02.webp)"
   ]
  },
  {
   "cell_type": "markdown",
   "id": "aaa6c68c-12cd-4178-a44b-ef29a9ae27de",
   "metadata": {},
   "source": [
    "### Confusion"
   ]
  },
  {
   "cell_type": "code",
   "execution_count": null,
   "id": "f7000308-6226-4a8e-9d6e-1a3a6cbf22af",
   "metadata": {},
   "outputs": [],
   "source": [
    "confusion_matrices = [\n",
    "    [ 'MobileNetV3Small', './assets/MobileNetV3Small_FT_04.webp' ],\n",
    "    [ 'MobileNetV3Large', './assets/MobileNetV3Large_FT_04.webp' ],\n",
    "    [ 'EfficientNetV2B0', './assets/EfficientNetV2B0_04.webp' ],\n",
    "    [ 'EfficientNetV2S', './assets/EfficientNetV2S_04.webp' ],\n",
    "    [ 'Xception', './assets/Xception_FT_04.webp' ],\n",
    "    [ 'NASNetMobile', './assets/NASNetMobile_FT_04.webp' ],\n",
    "    [ 'MobileNetV2', './assets/MobileNetV2_FT_04.webp' ],\n",
    "    [ 'ViT', './assets/ViT_04.webp' ],\n",
    "    [ 'DeiT', './assets/DeiT_04.webp' ]\n",
    "]"
   ]
  },
  {
   "cell_type": "code",
   "execution_count": null,
   "id": "19f151df-6e73-4177-b5c1-208cfb13efb9",
   "metadata": {
    "scrolled": true
   },
   "outputs": [],
   "source": [
    "plt.figure(figsize=(14,12))\n",
    "\n",
    "for model, curve in confusion_matrices:\n",
    "    for i in range(len(confusion_matrices)):\n",
    "        ax = plt.subplot(3,3,i+1)\n",
    "        plt.title(confusion_matrices[i][0])\n",
    "        image = plt.imread(confusion_matrices[i][1])\n",
    "        plt.imshow(image)\n",
    "        plt.axis('off')\n",
    "        \n",
    "plt.savefig('./assets/Model_Eval_03.webp', bbox_inches='tight')"
   ]
  },
  {
   "cell_type": "markdown",
   "id": "9dc8cc7d-ca8e-4ad9-8ce3-6a7bac8397dc",
   "metadata": {},
   "source": [
    "![Model Evaluation](./assets/Model_Eval_03.webp)"
   ]
  },
  {
   "cell_type": "markdown",
   "id": "c9da6dcd-a703-435a-a28b-f4e054c8282a",
   "metadata": {},
   "source": [
    "## Model Prediction\n",
    "\n",
    "### MobileNetV3Small"
   ]
  },
  {
   "cell_type": "code",
   "execution_count": null,
   "id": "27ec66ba-b170-4406-89c2-303ddaa1a1d9",
   "metadata": {},
   "outputs": [],
   "source": [
    "MobileNetV3Small_Predictions = [\n",
    "    [ './assets/MobileNetV3Small_Prediction_01.webp' ],\n",
    "    [ './assets/MobileNetV3Small_Prediction_02.webp' ],\n",
    "    [ './assets/MobileNetV3Small_Prediction_03.webp' ]\n",
    "]"
   ]
  },
  {
   "cell_type": "code",
   "execution_count": null,
   "id": "98253336-f353-4e79-8ee9-c1e776c20ca0",
   "metadata": {},
   "outputs": [],
   "source": [
    "plt.figure(figsize=(16,8))\n",
    "\n",
    "for prediction in MobileNetV3Small_Predictions:\n",
    "    for i in range(len(MobileNetV3Small_Predictions)):\n",
    "        ax = plt.subplot(1,3,i+1)\n",
    "        image = plt.imread(MobileNetV3Small_Predictions[i][0])\n",
    "        plt.imshow(image)\n",
    "        plt.axis('off')\n",
    "        \n",
    "plt.savefig('./assets/Model_Eval_MobileNetV3Small_01.webp', bbox_inches='tight')"
   ]
  },
  {
   "cell_type": "markdown",
   "id": "e6e84c00-1d49-4170-9b10-752e7c5cb8eb",
   "metadata": {},
   "source": [
    "![Model Evaluation](./assets/Model_Eval_MobileNetV3Small_01.webp)"
   ]
  },
  {
   "cell_type": "markdown",
   "id": "14f48c3d-8371-4b62-9f5e-c3fa4ba3c189",
   "metadata": {},
   "source": [
    "![Model Evaluation](./assets/MobileNetV3Small_FT_03.webp)"
   ]
  },
  {
   "cell_type": "markdown",
   "id": "46664811-d3a3-47fc-8814-ed3c45003382",
   "metadata": {},
   "source": [
    "### MobileNetV2"
   ]
  },
  {
   "cell_type": "code",
   "execution_count": null,
   "id": "6493e70b-84f5-48a1-a197-a1f4515f89f5",
   "metadata": {},
   "outputs": [],
   "source": [
    "MobileNetV2_Predictions = [\n",
    "    [ './assets/MobileNetV2_Prediction_01.webp' ],\n",
    "    [ './assets/MobileNetV2_Prediction_02.webp' ],\n",
    "    [ './assets/MobileNetV2_Prediction_03.webp' ]\n",
    "]"
   ]
  },
  {
   "cell_type": "code",
   "execution_count": null,
   "id": "1e315f0c-afeb-48af-b0c5-535f67b695e8",
   "metadata": {},
   "outputs": [],
   "source": [
    "plt.figure(figsize=(16,8))\n",
    "\n",
    "for prediction in MobileNetV2_Predictions:\n",
    "    for i in range(len(MobileNetV2_Predictions)):\n",
    "        ax = plt.subplot(1,3,i+1)\n",
    "        image = plt.imread(MobileNetV2_Predictions[i][0])\n",
    "        plt.imshow(image)\n",
    "        plt.axis('off')\n",
    "        \n",
    "plt.savefig('./assets/Model_Eval_MobileNetV2_01.webp', bbox_inches='tight')"
   ]
  },
  {
   "cell_type": "markdown",
   "id": "deedc8af-6b7c-44fd-887d-b1fe0fcbd4a7",
   "metadata": {},
   "source": [
    "![Model Evaluation](./assets/Model_Eval_MobileNetV2_01.webp)"
   ]
  },
  {
   "cell_type": "markdown",
   "id": "a23c774b-0c53-4858-969d-a72e0fb605fc",
   "metadata": {},
   "source": [
    "![Model Evaluation](./assets/MobileNetV3Large_FT_03.webp)"
   ]
  },
  {
   "cell_type": "markdown",
   "id": "fca7fcd0-8f56-42a5-a785-12cb1af18d8c",
   "metadata": {},
   "source": [
    "### MobileNetV3Large"
   ]
  },
  {
   "cell_type": "code",
   "execution_count": null,
   "id": "4276561b-27ad-4821-9346-7127e19d0985",
   "metadata": {},
   "outputs": [],
   "source": [
    "MobileNetV3Large_Predictions = [\n",
    "    [ './assets/MobileNetV3Large_Prediction_01.webp' ],\n",
    "    [ './assets/MobileNetV3Large_Prediction_02.webp' ],\n",
    "    [ './assets/MobileNetV3Large_Prediction_03.webp' ]\n",
    "]"
   ]
  },
  {
   "cell_type": "code",
   "execution_count": null,
   "id": "ad9ca582-b4a8-4f60-ab30-c5ce2971d9ae",
   "metadata": {},
   "outputs": [],
   "source": [
    "plt.figure(figsize=(16,8))\n",
    "\n",
    "for prediction in MobileNetV3Small_Predictions:\n",
    "    for i in range(len(MobileNetV3Small_Predictions)):\n",
    "        ax = plt.subplot(1,3,i+1)\n",
    "        image = plt.imread(MobileNetV3Small_Predictions[i][0])\n",
    "        plt.imshow(image)\n",
    "        plt.axis('off')\n",
    "        \n",
    "plt.savefig('./assets/Model_Eval_MobileNetV3Large_01.webp', bbox_inches='tight')"
   ]
  },
  {
   "cell_type": "markdown",
   "id": "e1eed928-2566-4daa-bfcb-c5886677455e",
   "metadata": {},
   "source": [
    "![Model Evaluation](./assets/Model_Eval_MobileNetV3Large_01.webp)"
   ]
  },
  {
   "cell_type": "markdown",
   "id": "881be87f-8cfc-417d-988c-1f9334c97494",
   "metadata": {},
   "source": [
    "![Model Evaluation](./assets/MobileNetV3Large_FT_03.webp)"
   ]
  },
  {
   "cell_type": "markdown",
   "id": "f0d45443-05c1-4c3a-b9f6-62c0c1564dea",
   "metadata": {},
   "source": [
    "### EfficientNetV2B0"
   ]
  },
  {
   "cell_type": "code",
   "execution_count": null,
   "id": "e8409020-c815-4e9c-8618-0a363346e8c6",
   "metadata": {},
   "outputs": [],
   "source": [
    "MobileNetV3Small_Predictions = [\n",
    "    [ './assets/EfficientNetV2B0_Prediction_01.webp' ],\n",
    "    [ './assets/EfficientNetV2B0_Prediction_02.webp' ],\n",
    "    [ './assets/EfficientNetV2B0_Prediction_03.webp' ]\n",
    "]"
   ]
  },
  {
   "cell_type": "code",
   "execution_count": null,
   "id": "996540c0-0cbe-4157-946d-c65d27777e99",
   "metadata": {},
   "outputs": [],
   "source": [
    "plt.figure(figsize=(16,8))\n",
    "\n",
    "for prediction in MobileNetV3Small_Predictions:\n",
    "    for i in range(len(MobileNetV3Small_Predictions)):\n",
    "        ax = plt.subplot(1,3,i+1)\n",
    "        image = plt.imread(MobileNetV3Small_Predictions[i][0])\n",
    "        plt.imshow(image)\n",
    "        plt.axis('off')\n",
    "        \n",
    "plt.savefig('./assets/Model_Eval_EfficientNetV2B0_01.webp', bbox_inches='tight')"
   ]
  },
  {
   "cell_type": "markdown",
   "id": "94114b2f-5ec6-43ce-a09c-28d2e8414211",
   "metadata": {},
   "source": [
    "![Model Evaluation](./assets/Model_Eval_EfficientNetV2B0_01.webp)"
   ]
  },
  {
   "cell_type": "markdown",
   "id": "287fee8b-190d-4fd1-bcec-96b4ffab3fb4",
   "metadata": {},
   "source": [
    "![Model Evaluation](./assets/EfficientNetV2B0_03.webp)"
   ]
  },
  {
   "cell_type": "markdown",
   "id": "157742f7-0471-45af-bfed-e2aa39e33972",
   "metadata": {},
   "source": [
    "### EfficientNetV2S"
   ]
  },
  {
   "cell_type": "code",
   "execution_count": null,
   "id": "be9d25d4-de5d-4c85-be35-41a19de21389",
   "metadata": {},
   "outputs": [],
   "source": [
    "EfficientNetV2S_Predictions = [\n",
    "    [ './assets/EfficientNetV2S_Prediction_01.webp' ],\n",
    "    [ './assets/EfficientNetV2S_Prediction_02.webp' ],\n",
    "    [ './assets/EfficientNetV2S_Prediction_03.webp' ]\n",
    "]"
   ]
  },
  {
   "cell_type": "code",
   "execution_count": null,
   "id": "2f7ece1a-1d44-4dee-8df3-ca9f67848146",
   "metadata": {},
   "outputs": [],
   "source": [
    "plt.figure(figsize=(16,8))\n",
    "\n",
    "for prediction in EfficientNetV2S_Predictions:\n",
    "    for i in range(len(EfficientNetV2S_Predictions)):\n",
    "        ax = plt.subplot(1,3,i+1)\n",
    "        image = plt.imread(EfficientNetV2S_Predictions[i][0])\n",
    "        plt.imshow(image)\n",
    "        plt.axis('off')\n",
    "        \n",
    "plt.savefig('./assets/Model_Eval_EfficientNetV2S_01.webp', bbox_inches='tight')"
   ]
  },
  {
   "cell_type": "markdown",
   "id": "10d31373-748e-4af5-97dc-37804b76349a",
   "metadata": {},
   "source": [
    "![Model Evaluation](./assets/Model_Eval_EfficientNetV2S_01.webp)"
   ]
  },
  {
   "cell_type": "markdown",
   "id": "e5ff27b3-2cdb-49c1-9704-0eceade3031b",
   "metadata": {},
   "source": [
    "![Model Evaluation](./assets/EfficientNetV2S_03.webp)"
   ]
  },
  {
   "cell_type": "markdown",
   "id": "2b1dc411-0243-41d1-a263-cd7b831abd8e",
   "metadata": {},
   "source": [
    "### Xception"
   ]
  },
  {
   "cell_type": "code",
   "execution_count": null,
   "id": "578e04ab-8af1-4f4a-aba8-91cb8677bd5f",
   "metadata": {},
   "outputs": [],
   "source": [
    "Xception_Predictions = [\n",
    "    [ './assets/Xception_Prediction_01.webp' ],\n",
    "    [ './assets/Xception_Prediction_02.webp' ],\n",
    "    [ './assets/Xception_Prediction_03.webp' ]\n",
    "]"
   ]
  },
  {
   "cell_type": "code",
   "execution_count": null,
   "id": "5c40d861-b1ac-4636-b76b-00ae1e3214f3",
   "metadata": {},
   "outputs": [],
   "source": [
    "plt.figure(figsize=(16,8))\n",
    "\n",
    "for prediction in Xception_Predictions:\n",
    "    for i in range(len(Xception_Predictions)):\n",
    "        ax = plt.subplot(1,3,i+1)\n",
    "        image = plt.imread(Xception_Predictions[i][0])\n",
    "        plt.imshow(image)\n",
    "        plt.axis('off')\n",
    "        \n",
    "plt.savefig('./assets/Model_Eval_Xception_01.webp', bbox_inches='tight')"
   ]
  },
  {
   "cell_type": "markdown",
   "id": "559e4e26-fbd7-4629-9b7f-ee1eb1100b33",
   "metadata": {},
   "source": [
    "![Model Evaluation](./assets/Model_Eval_Xception_01.webp)"
   ]
  },
  {
   "cell_type": "markdown",
   "id": "455a654b-d820-4cf7-b80c-cb422a4ab950",
   "metadata": {},
   "source": [
    "![Model Evaluation](./assets/Xception_FT_03.webp)"
   ]
  },
  {
   "cell_type": "markdown",
   "id": "423d0dda-4d24-4306-919d-8f14fa6f747b",
   "metadata": {},
   "source": [
    "### NASNetMobile"
   ]
  },
  {
   "cell_type": "code",
   "execution_count": null,
   "id": "6497a7c8-b76c-40d5-9b2d-4a0157a7e8f5",
   "metadata": {},
   "outputs": [],
   "source": [
    "NASNetMobile_Predictions = [\n",
    "    [ './assets/NASNetMobile_Prediction_01.webp' ],\n",
    "    [ './assets/NASNetMobile_Prediction_02.webp' ],\n",
    "    [ './assets/NASNetMobile_Prediction_03.webp' ]\n",
    "]"
   ]
  },
  {
   "cell_type": "code",
   "execution_count": null,
   "id": "e5d907bd-579a-4311-9e2f-03509da3a252",
   "metadata": {},
   "outputs": [],
   "source": [
    "plt.figure(figsize=(16,8))\n",
    "\n",
    "for prediction in NASNetMobile_Predictions:\n",
    "    for i in range(len(NASNetMobile_Predictions)):\n",
    "        ax = plt.subplot(1,3,i+1)\n",
    "        image = plt.imread(NASNetMobile_Predictions[i][0])\n",
    "        plt.imshow(image)\n",
    "        plt.axis('off')\n",
    "        \n",
    "plt.savefig('./assets/Model_Eval_NASNetMobile_01.webp', bbox_inches='tight')"
   ]
  },
  {
   "cell_type": "markdown",
   "id": "faa6b7be-d333-4697-b6a4-bfdffd81d313",
   "metadata": {},
   "source": [
    "![Model Evaluation](./assets/Model_Eval_NASNetMobile_01.webp)"
   ]
  },
  {
   "cell_type": "markdown",
   "id": "fb64f018-a2f3-447f-843d-e72f7925a316",
   "metadata": {},
   "source": [
    "![Model Evaluation](./assets/NASNetMobile_FT_03.webp)"
   ]
  },
  {
   "cell_type": "markdown",
   "id": "1f8da4f0-fd27-4409-a37b-694fd14ea10e",
   "metadata": {},
   "source": [
    "### ViT"
   ]
  },
  {
   "cell_type": "code",
   "execution_count": null,
   "id": "7a7a6aa5-a62f-4793-b27c-ddb7c6718403",
   "metadata": {},
   "outputs": [],
   "source": [
    "ViT_Predictions = [\n",
    "    [ './assets/ViT_Prediction_01.webp' ],\n",
    "    [ './assets/ViT_Prediction_02.webp' ],\n",
    "    [ './assets/ViT_Prediction_03.webp' ]\n",
    "]"
   ]
  },
  {
   "cell_type": "code",
   "execution_count": null,
   "id": "04e4e539-1a01-42ee-b7f8-23bd1edc1e6c",
   "metadata": {},
   "outputs": [],
   "source": [
    "plt.figure(figsize=(16,8))\n",
    "\n",
    "for prediction in ViT_Predictions:\n",
    "    for i in range(len(ViT_Predictions)):\n",
    "        ax = plt.subplot(1,3,i+1)\n",
    "        image = plt.imread(ViT_Predictions[i][0])\n",
    "        plt.imshow(image)\n",
    "        plt.axis('off')\n",
    "        \n",
    "plt.savefig('./assets/Model_Eval_ViT_01.webp', bbox_inches='tight')"
   ]
  },
  {
   "cell_type": "markdown",
   "id": "b4ad2b74-cfb5-4958-bed9-533ddbcc14eb",
   "metadata": {},
   "source": [
    "![Model Evaluation](./assets/Model_Eval_ViT_01.webp)"
   ]
  },
  {
   "cell_type": "markdown",
   "id": "ea842d67-22d2-4ada-8adf-62e5aaf0b9c4",
   "metadata": {},
   "source": [
    "![Model Evaluation](./assets/ViT_03.webp)"
   ]
  },
  {
   "cell_type": "markdown",
   "id": "769abab1-3c7b-4d20-b35b-dd5882996714",
   "metadata": {},
   "source": [
    "### DeiT"
   ]
  },
  {
   "cell_type": "code",
   "execution_count": null,
   "id": "16ab15af-7d63-4c60-9ebf-f03df010374b",
   "metadata": {},
   "outputs": [],
   "source": [
    "DeiT_Predictions = [\n",
    "    [ './assets/DeiT_Prediction_01.webp' ],\n",
    "    [ './assets/DeiT_Prediction_02.webp' ],\n",
    "    [ './assets/DeiT_Prediction_03.webp' ]\n",
    "]"
   ]
  },
  {
   "cell_type": "code",
   "execution_count": null,
   "id": "ec9ac65e-9660-44a7-baf8-15a5a0c1effb",
   "metadata": {},
   "outputs": [],
   "source": [
    "plt.figure(figsize=(16,8))\n",
    "\n",
    "for prediction in DeiT_Predictions:\n",
    "    for i in range(len(DeiT_Predictions)):\n",
    "        ax = plt.subplot(1,3,i+1)\n",
    "        image = plt.imread(DeiT_Predictions[i][0])\n",
    "        plt.imshow(image)\n",
    "        plt.axis('off')\n",
    "        \n",
    "plt.savefig('./assets/Model_Eval_DeiT_01.webp', bbox_inches='tight')"
   ]
  },
  {
   "cell_type": "markdown",
   "id": "13b23afb-997a-44ce-9dec-40884c2eafc2",
   "metadata": {},
   "source": [
    "![Model Evaluation](./assets/Model_Eval_DeiT_01.webp)"
   ]
  },
  {
   "cell_type": "markdown",
   "id": "382cfb52-1c85-4e12-baa8-1cb0952f0f25",
   "metadata": {},
   "source": [
    "![Model Evaluation](./assets/DeiT_03.webp)"
   ]
  }
 ],
 "metadata": {
  "jupytext": {
   "formats": "ipynb,md"
  },
  "kernelspec": {
   "display_name": "Python 3 (ipykernel)",
   "language": "python",
   "name": "python3"
  },
  "language_info": {
   "codemirror_mode": {
    "name": "ipython",
    "version": 3
   },
   "file_extension": ".py",
   "mimetype": "text/x-python",
   "name": "python",
   "nbconvert_exporter": "python",
   "pygments_lexer": "ipython3",
   "version": "3.8.10"
  }
 },
 "nbformat": 4,
 "nbformat_minor": 5
}

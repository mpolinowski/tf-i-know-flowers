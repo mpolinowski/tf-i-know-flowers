{
 "cells": [
  {
   "cell_type": "markdown",
   "id": "deb8ce91",
   "metadata": {},
   "source": [
    "# Image Dataset Preparation"
   ]
  },
  {
   "cell_type": "code",
   "execution_count": null,
   "id": "8e1746cc",
   "metadata": {},
   "outputs": [],
   "source": [
    "from glob import glob\n",
    "import matplotlib.pyplot as plt\n",
    "import os\n",
    "from skimage import (\n",
    "    io,\n",
    "    color,\n",
    "    exposure,\n",
    "    transform,\n",
    "    feature\n",
    ")\n",
    "from sklearn.model_selection import train_test_split\n",
    "import splitfolders # pip install split-folders"
   ]
  },
  {
   "cell_type": "code",
   "execution_count": null,
   "id": "cae640b1-c715-4ad9-986c-84b9d0d881f9",
   "metadata": {},
   "outputs": [],
   "source": [
    "SEED = 42"
   ]
  },
  {
   "cell_type": "markdown",
   "id": "e24ffec3",
   "metadata": {},
   "source": [
    "## Get Image Dataset from Local Directory"
   ]
  },
  {
   "cell_type": "code",
   "execution_count": null,
   "id": "b32dab64",
   "metadata": {},
   "outputs": [],
   "source": [
    "data_dir = os.listdir('../dataset/Flower_Dataset/complete')\n",
    "print(data_dir)\n",
    "# ['Gladiolus', 'Adenium', 'Alpinia_Purpurata', 'Alstroemeria', 'Amaryllis', 'Anthurium_Andraeanum', 'Antirrhinum', 'Aquilegia', 'Billbergia_Pyramidalis', 'Cattleya', 'Cirsium', 'Coccinia_Grandis', 'Crocus', 'Cyclamen', 'Dahlia', 'Datura_Metel', 'Dianthus_Barbatus', 'Digitalis', 'Echinacea_Purpurea', 'Echinops_Bannaticus', 'Fritillaria_Meleagris', 'Gaura', 'Gazania', 'Gerbera', 'Guzmania', 'Helianthus_Annuus', 'Iris_Pseudacorus', 'Leucanthemum', 'Malvaceae', 'Narcissus_Pseudonarcissus', 'Nerine', 'Nymphaea_Tetragona', 'Paphiopedilum', 'Passiflora', 'Pelargonium', 'Petunia', 'Platycodon_Grandiflorus', 'Plumeria', 'Poinsettia', 'Primula', 'Protea_Cynaroides', 'Rose', 'Rudbeckia', 'Strelitzia_Reginae', 'Tropaeolum_Majus', 'Tussilago', 'Viola', 'Zantedeschia_Aethiopica']"
   ]
  },
  {
   "cell_type": "code",
   "execution_count": null,
   "id": "ed97d939",
   "metadata": {
    "scrolled": true
   },
   "outputs": [],
   "source": [
    "glob('../dataset/Flower_Dataset/complete/{}/*.jpg'.format('Viola'))\n",
    "\n",
    "# ['../dataset/Flower_Dataset/complete/Viola/Viola_185.jpg',\n",
    "#  '../dataset/Flower_Dataset/complete/Viola/Viola_186.jpg',\n",
    "#  '../dataset/Flower_Dataset/complete/Viola/Viola_187.jpg',\n",
    "#  ..."
   ]
  },
  {
   "cell_type": "code",
   "execution_count": null,
   "id": "9d1b8fe8",
   "metadata": {},
   "outputs": [],
   "source": [
    "all_files = []\n",
    "for subfolder in data_dir:\n",
    "    all_files += glob('../dataset/Flower_Dataset/complete/{}/*.jpg'.format(subfolder))\n",
    "    \n",
    "len(all_files)\n",
    "# 12278"
   ]
  },
  {
   "cell_type": "code",
   "execution_count": null,
   "id": "09ef7403-f886-4a52-b64a-056574e10626",
   "metadata": {},
   "outputs": [],
   "source": [
    "data_collection = io.ImageCollection(all_files)\n",
    "data_collection.files"
   ]
  },
  {
   "cell_type": "code",
   "execution_count": null,
   "id": "83ce70c8-4dbd-44a5-a7cf-69d03db57dea",
   "metadata": {},
   "outputs": [],
   "source": [
    "len(data_collection)"
   ]
  },
  {
   "cell_type": "markdown",
   "id": "56669601",
   "metadata": {},
   "source": [
    "### Resize to 224,224,3"
   ]
  },
  {
   "cell_type": "code",
   "execution_count": null,
   "id": "699feddd",
   "metadata": {
    "scrolled": true
   },
   "outputs": [],
   "source": [
    "c = 0\n",
    "\n",
    "for image in data_collection:\n",
    "    # print(data_collection.files[c]) # debug file read errors\n",
    "    img_ori = io.imread(data_collection.files[c], as_gray=False)\n",
    "    img_thumb = transform.resize(img_ori, output_shape=(224, 224, 3), anti_aliasing=True)\n",
    "    plt.imsave(data_collection.files[c], img_thumb)\n",
    "    c = c + 1"
   ]
  },
  {
   "cell_type": "markdown",
   "id": "1352a8a9-85dc-45ef-b38d-c235e21f12c9",
   "metadata": {},
   "source": [
    "### Train Test Split"
   ]
  },
  {
   "cell_type": "code",
   "execution_count": null,
   "id": "4e20828c-369f-48fe-89cd-937c556ae1cf",
   "metadata": {},
   "outputs": [],
   "source": [
    "input_folder = \"../dataset/Flower_Dataset/complete\"\n",
    "output_folder = \"../dataset/Flower_Dataset/split\"\n",
    "\n",
    "splitfolders.ratio(input_folder, output=output_folder, seed=SEED, ratio=(.75, .25))"
   ]
  }
 ],
 "metadata": {
  "jupytext": {
   "formats": "ipynb,md"
  },
  "kernelspec": {
   "display_name": "Python 3 (ipykernel)",
   "language": "python",
   "name": "python3"
  },
  "language_info": {
   "codemirror_mode": {
    "name": "ipython",
    "version": 3
   },
   "file_extension": ".py",
   "mimetype": "text/x-python",
   "name": "python",
   "nbconvert_exporter": "python",
   "pygments_lexer": "ipython3",
   "version": "3.8.10"
  }
 },
 "nbformat": 4,
 "nbformat_minor": 5
}

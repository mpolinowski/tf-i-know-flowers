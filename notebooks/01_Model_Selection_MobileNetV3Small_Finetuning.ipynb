{
 "cells": [
  {
   "cell_type": "markdown",
   "id": "64eece7d",
   "metadata": {},
   "source": [
    "# Tensorflow Image Classifier\n",
    "\n",
    "## MobileNetV3Small - FineTuning"
   ]
  },
  {
   "cell_type": "code",
   "execution_count": null,
   "id": "cd146210",
   "metadata": {},
   "outputs": [],
   "source": [
    "import cv2 as cv\n",
    "import matplotlib.pyplot as plt\n",
    "import numpy as np\n",
    "from PIL import Image\n",
    "from sklearn.metrics import (\n",
    "    classification_report,\n",
    "    confusion_matrix,\n",
    "    ConfusionMatrixDisplay)\n",
    "import seaborn as sns\n",
    "\n",
    "import tensorflow as tf\n",
    "from tensorflow.io import TFRecordWriter\n",
    "from tensorflow.keras import Sequential\n",
    "from tensorflow.keras.callbacks  import (\n",
    "    Callback,\n",
    "    CSVLogger,\n",
    "    EarlyStopping,\n",
    "    LearningRateScheduler,\n",
    "    ModelCheckpoint\n",
    ")\n",
    "from tensorflow.keras.layers import (\n",
    "    Layer,\n",
    "    GlobalAveragePooling2D,\n",
    "    Conv2D,\n",
    "    MaxPool2D,\n",
    "    Dense,\n",
    "    Flatten,\n",
    "    InputLayer,\n",
    "    BatchNormalization,\n",
    "    Input,\n",
    "    Dropout,\n",
    "    RandomFlip,\n",
    "    RandomRotation,\n",
    "    RandomContrast,\n",
    "    RandomBrightness,\n",
    "    Resizing,\n",
    "    Rescaling\n",
    ")\n",
    "from tensorflow.keras.losses import BinaryCrossentropy, CategoricalCrossentropy, SparseCategoricalCrossentropy\n",
    "from tensorflow.keras.metrics import CategoricalAccuracy, TopKCategoricalAccuracy, SparseCategoricalAccuracy\n",
    "from tensorflow.keras.models import Model\n",
    "from tensorflow.keras.optimizers import Adam\n",
    "from tensorflow.keras.preprocessing.image import ImageDataGenerator\n",
    "from tensorflow.keras.regularizers import L2, L1\n",
    "from tensorflow.keras.utils import image_dataset_from_directory\n",
    "from tensorflow.train import Feature, Features, Example, BytesList, Int64List"
   ]
  },
  {
   "cell_type": "code",
   "execution_count": null,
   "id": "09b9599f",
   "metadata": {},
   "outputs": [],
   "source": [
    "BATCH = 32\n",
    "SIZE = 224\n",
    "SEED = 42\n",
    "\n",
    "EPOCHS = 20\n",
    "LR = 0.001\n",
    "FILTERS = 6\n",
    "KERNEL = 3\n",
    "STRIDES = 1\n",
    "REGRATE = 0.0\n",
    "POOL = 2\n",
    "DORATE = 0.05\n",
    "LABELS = ['Gladiolus', 'Adenium', 'Alpinia_Purpurata', 'Alstroemeria', 'Amaryllis', 'Anthurium_Andraeanum', 'Antirrhinum', 'Aquilegia', 'Billbergia_Pyramidalis', 'Cattleya', 'Cirsium', 'Coccinia_Grandis', 'Crocus', 'Cyclamen', 'Dahlia', 'Datura_Metel', 'Dianthus_Barbatus', 'Digitalis', 'Echinacea_Purpurea', 'Echinops_Bannaticus', 'Fritillaria_Meleagris', 'Gaura', 'Gazania', 'Gerbera', 'Guzmania', 'Helianthus_Annuus', 'Iris_Pseudacorus', 'Leucanthemum', 'Malvaceae', 'Narcissus_Pseudonarcissus', 'Nerine', 'Nymphaea_Tetragona', 'Paphiopedilum', 'Passiflora', 'Pelargonium', 'Petunia', 'Platycodon_Grandiflorus', 'Plumeria', 'Poinsettia', 'Primula', 'Protea_Cynaroides', 'Rose', 'Rudbeckia', 'Strelitzia_Reginae', 'Tropaeolum_Majus', 'Tussilago', 'Viola', 'Zantedeschia_Aethiopica']\n",
    "NLABELS = len(LABELS)\n",
    "DENSE1 = 1024\n",
    "DENSE2 = 128"
   ]
  },
  {
   "cell_type": "markdown",
   "id": "04aca3ff",
   "metadata": {},
   "source": [
    "## Dataset"
   ]
  },
  {
   "cell_type": "code",
   "execution_count": null,
   "id": "7436d635",
   "metadata": {},
   "outputs": [],
   "source": [
    "train_directory = '../dataset/Flower_Dataset/split/train'\n",
    "test_directory = '../dataset/Flower_Dataset/split/val'"
   ]
  },
  {
   "cell_type": "code",
   "execution_count": null,
   "id": "45b7bb62",
   "metadata": {
    "scrolled": true
   },
   "outputs": [],
   "source": [
    "train_dataset = image_dataset_from_directory(\n",
    "    train_directory,\n",
    "    labels='inferred',\n",
    "    label_mode='categorical',\n",
    "    class_names=LABELS,\n",
    "    color_mode='rgb',\n",
    "    batch_size=BATCH,\n",
    "    image_size=(SIZE, SIZE),\n",
    "    shuffle=True,\n",
    "    seed=SEED,\n",
    "    interpolation='bilinear',\n",
    "    follow_links=False,\n",
    "    crop_to_aspect_ratio=False\n",
    ")\n",
    "\n",
    "# Found 9206 files belonging to 48 classes."
   ]
  },
  {
   "cell_type": "code",
   "execution_count": null,
   "id": "d512599f",
   "metadata": {},
   "outputs": [],
   "source": [
    "test_dataset = image_dataset_from_directory(\n",
    "    test_directory,\n",
    "    labels='inferred',\n",
    "    label_mode='categorical',\n",
    "    class_names=LABELS,\n",
    "    color_mode='rgb',\n",
    "    batch_size=BATCH,\n",
    "    image_size=(SIZE, SIZE),\n",
    "    shuffle=True,\n",
    "    seed=SEED\n",
    ")\n",
    "\n",
    "# Found 3090 files belonging to 48 classes."
   ]
  },
  {
   "cell_type": "code",
   "execution_count": null,
   "id": "1958f4c4",
   "metadata": {},
   "outputs": [],
   "source": [
    "data_augmentation = Sequential([\n",
    "        # Resizing(256, 256),\n",
    "        RandomRotation(factor=0.15),\n",
    "        RandomFlip(mode='horizontal'),\n",
    "        RandomContrast(factor=0.1),\n",
    "        RandomBrightness(0.1)\n",
    "    ],\n",
    "    name=\"img_augmentation\",\n",
    ")"
   ]
  },
  {
   "cell_type": "code",
   "execution_count": null,
   "id": "a8b5b896",
   "metadata": {},
   "outputs": [],
   "source": [
    "training_dataset = (\n",
    "    train_dataset\n",
    "    .map(lambda image, label: (data_augmentation(image), label))\n",
    "    .prefetch(tf.data.AUTOTUNE)\n",
    ")\n",
    "\n",
    "\n",
    "testing_dataset = (\n",
    "    test_dataset.prefetch(\n",
    "        tf.data.AUTOTUNE\n",
    "    )\n",
    ")"
   ]
  },
  {
   "cell_type": "markdown",
   "id": "b476bc53",
   "metadata": {},
   "source": [
    "## Building the MobileNet TF Model"
   ]
  },
  {
   "cell_type": "code",
   "execution_count": null,
   "id": "d599fdef",
   "metadata": {},
   "outputs": [],
   "source": [
    "# transfer learning\n",
    "backbone = tf.keras.applications.MobileNetV3Small(\n",
    "    input_shape=(SIZE, SIZE, 3),\n",
    "    alpha=1.0,\n",
    "    minimalistic=True,\n",
    "    include_top=False,\n",
    "    weights='imagenet',\n",
    "    dropout_rate=0.2,\n",
    "    include_preprocessing=True\n",
    ")"
   ]
  },
  {
   "cell_type": "code",
   "execution_count": null,
   "id": "c4647809",
   "metadata": {},
   "outputs": [],
   "source": [
    "backbone.trainable = False"
   ]
  },
  {
   "cell_type": "code",
   "execution_count": null,
   "id": "0082b8ff",
   "metadata": {},
   "outputs": [],
   "source": [
    "input = Input(shape=(SIZE,SIZE,3))\n",
    "x = data_augmentation(input)\n",
    "x = backbone(x, training=False)\n",
    "\n",
    "x = GlobalAveragePooling2D()(x)\n",
    "x = Dense(DENSE1, activation='relu')(x)\n",
    "x = BatchNormalization()(x)\n",
    "x = Dense(DENSE2, activation='relu')(x)\n",
    "\n",
    "output = Dense(NLABELS, activation='softmax')(x)\n",
    "\n",
    "mobilenet_model = Model(input, output)\n",
    "mobilenet_model.summary()"
   ]
  },
  {
   "cell_type": "code",
   "execution_count": null,
   "id": "63db235c",
   "metadata": {},
   "outputs": [],
   "source": [
    "checkpoint_callback = ModelCheckpoint(\n",
    "    '../best_weights',\n",
    "    monitor='val_accuracy',\n",
    "    mode='max',\n",
    "    verbose=1,\n",
    "    save_best_only=True\n",
    ")"
   ]
  },
  {
   "cell_type": "code",
   "execution_count": null,
   "id": "a0bf3afe",
   "metadata": {},
   "outputs": [],
   "source": [
    "early_stopping_callback = EarlyStopping(\n",
    "    monitor='val_accuracy',\n",
    "    patience=10,\n",
    "    restore_best_weights=True\n",
    ")"
   ]
  },
  {
   "cell_type": "code",
   "execution_count": null,
   "id": "a804c2ac",
   "metadata": {},
   "outputs": [],
   "source": [
    "loss_function = CategoricalCrossentropy()"
   ]
  },
  {
   "cell_type": "code",
   "execution_count": null,
   "id": "61ac47ec",
   "metadata": {},
   "outputs": [],
   "source": [
    "metrics = [CategoricalAccuracy(name='accuracy')]"
   ]
  },
  {
   "cell_type": "code",
   "execution_count": null,
   "id": "502ba578",
   "metadata": {},
   "outputs": [],
   "source": [
    "mobilenet_model.compile(\n",
    "    optimizer = Adam(learning_rate=LR),\n",
    "    loss = loss_function,\n",
    "    metrics = metrics\n",
    ")"
   ]
  },
  {
   "cell_type": "markdown",
   "id": "d23c2abe",
   "metadata": {},
   "source": [
    "### Model Training"
   ]
  },
  {
   "cell_type": "code",
   "execution_count": null,
   "id": "aa60a969",
   "metadata": {},
   "outputs": [],
   "source": [
    "tf.config.run_functions_eagerly(True)"
   ]
  },
  {
   "cell_type": "code",
   "execution_count": null,
   "id": "2e2b5602",
   "metadata": {
    "scrolled": true
   },
   "outputs": [],
   "source": [
    "mobilenet_history = mobilenet_model.fit(\n",
    "    training_dataset,\n",
    "    validation_data = testing_dataset,\n",
    "    epochs = EPOCHS,\n",
    "    verbose = 1,\n",
    "    # callbacks=[checkpoint_callback, early_stopping_callback]\n",
    ")\n",
    "\n",
    "# loss: 0.2550\n",
    "# accuracy: 0.9148\n",
    "# val_loss: 0.5476\n",
    "# val_accuracy: 0.8547"
   ]
  },
  {
   "cell_type": "markdown",
   "id": "995bba2c",
   "metadata": {},
   "source": [
    "### Model Evaluation"
   ]
  },
  {
   "cell_type": "code",
   "execution_count": null,
   "id": "828e7926",
   "metadata": {},
   "outputs": [],
   "source": [
    "mobilenet_model.evaluate(testing_dataset)\n",
    "# loss: 0.5476 - accuracy: 0.8547"
   ]
  },
  {
   "cell_type": "markdown",
   "id": "3aec48c8",
   "metadata": {},
   "source": [
    "### Model Finetuning"
   ]
  },
  {
   "cell_type": "code",
   "execution_count": null,
   "id": "bfc8aab8",
   "metadata": {},
   "outputs": [],
   "source": [
    "backbone.trainable = True"
   ]
  },
  {
   "cell_type": "code",
   "execution_count": null,
   "id": "2219871e",
   "metadata": {},
   "outputs": [],
   "source": [
    "mobilenet_model.compile(\n",
    "    optimizer = Adam(learning_rate=LR/100),\n",
    "    loss = loss_function,\n",
    "    metrics = metrics\n",
    ")"
   ]
  },
  {
   "cell_type": "code",
   "execution_count": null,
   "id": "3704f464",
   "metadata": {
    "scrolled": true
   },
   "outputs": [],
   "source": [
    "mobilenet_history = mobilenet_model.fit(\n",
    "    training_dataset,\n",
    "    validation_data = testing_dataset,\n",
    "    epochs = EPOCHS,\n",
    "    verbose = 1,\n",
    "    # callbacks=[checkpoint_callback, early_stopping_callback]\n",
    ")\n",
    "\n",
    "# loss: 0.0884\n",
    "# accuracy: 0.9721\n",
    "# val_loss: 0.3562\n",
    "# val_accuracy: 0.9100"
   ]
  },
  {
   "cell_type": "markdown",
   "id": "3e57de1f",
   "metadata": {},
   "source": [
    "### Model Evaluation"
   ]
  },
  {
   "cell_type": "code",
   "execution_count": null,
   "id": "6d03ee11",
   "metadata": {},
   "outputs": [],
   "source": [
    "mobilenet_model.evaluate(testing_dataset)\n",
    "# loss: 0.3562 - accuracy: 0.9100"
   ]
  },
  {
   "cell_type": "code",
   "execution_count": null,
   "id": "5759dede",
   "metadata": {
    "scrolled": true
   },
   "outputs": [],
   "source": [
    "plt.plot(mobilenet_history.history['loss'])\n",
    "plt.plot(mobilenet_history.history['val_loss'])\n",
    "plt.title('Model Loss')\n",
    "plt.ylabel('loss')\n",
    "plt.xlabel('epoch')\n",
    "plt.legend(['train_loss', 'val_loss'])\n",
    "plt.savefig('assets/MobileNetV3Small_FT_01.webp', bbox_inches='tight')"
   ]
  },
  {
   "cell_type": "markdown",
   "id": "2bf95e5e",
   "metadata": {},
   "source": [
    "![tf Emotion Detection](./assets/MobileNetV3Small_FT_01.webp)"
   ]
  },
  {
   "cell_type": "code",
   "execution_count": null,
   "id": "a7f5733e",
   "metadata": {
    "scrolled": true
   },
   "outputs": [],
   "source": [
    "plt.plot(mobilenet_history.history['accuracy'])\n",
    "plt.plot(mobilenet_history.history['val_accuracy'])\n",
    "plt.title('Model Accuracy')\n",
    "plt.ylabel('accuracy')\n",
    "plt.xlabel('epoch')\n",
    "plt.legend(['train_accuracy', 'val_accuracy'])\n",
    "plt.savefig('assets/MobileNetV3Small_FT_02.webp', bbox_inches='tight')"
   ]
  },
  {
   "cell_type": "markdown",
   "id": "9503a917",
   "metadata": {},
   "source": [
    "![tf Emotion Detection](./assets/MobileNetV3Small_FT_02.webp)"
   ]
  },
  {
   "cell_type": "code",
   "execution_count": null,
   "id": "bfc1535b",
   "metadata": {
    "scrolled": true
   },
   "outputs": [],
   "source": [
    "test_image_bgr = cv.imread('../dataset/snapshots/Viola_Tricolor.jpg')\n",
    "test_image_resized = cv.resize(test_image_bgr, (SIZE, SIZE))\n",
    "test_image_rgb = cv.cvtColor(test_image_resized, cv.COLOR_BGR2RGB)\n",
    "img = tf.constant(test_image_rgb, dtype=tf.float32)\n",
    "img = tf.expand_dims(img, axis=0)\n",
    "\n",
    "probs = mobilenet_model(img).numpy()\n",
    "label = LABELS[tf.argmax(probs, axis=1).numpy()[0]]\n",
    "\n",
    "print(label, str(probs[0]))\n",
    "\n",
    "plt.imshow(test_image_rgb)\n",
    "plt.title(label)\n",
    "plt.axis('off')\n",
    "        \n",
    "plt.savefig('assets/MobileNetV3Small_Prediction_01.webp', bbox_inches='tight')"
   ]
  },
  {
   "cell_type": "markdown",
   "id": "bd10e9b4-3602-4171-bd93-ca140957e531",
   "metadata": {},
   "source": [
    "![tf Emotion Detection](./assets/MobileNetV3Small_Prediction_01.webp)"
   ]
  },
  {
   "cell_type": "code",
   "execution_count": null,
   "id": "323b7232",
   "metadata": {
    "scrolled": true
   },
   "outputs": [],
   "source": [
    "test_image_bgr = cv.imread('../dataset/snapshots/Strelitzia.jpg')\n",
    "test_image_resized = cv.resize(test_image_bgr, (SIZE, SIZE))\n",
    "test_image_rgb = cv.cvtColor(test_image_resized, cv.COLOR_BGR2RGB)\n",
    "img = tf.constant(test_image_rgb, dtype=tf.float32)\n",
    "img = tf.expand_dims(img, axis=0)\n",
    "\n",
    "probs = mobilenet_model(img).numpy()\n",
    "label = LABELS[tf.argmax(probs, axis=1).numpy()[0]]\n",
    "\n",
    "print(label, str(probs[0]))\n",
    "\n",
    "plt.imshow(test_image_rgb)\n",
    "plt.title(label)\n",
    "plt.axis('off')\n",
    "        \n",
    "plt.savefig('assets/MobileNetV3Small_Prediction_02.webp', bbox_inches='tight')"
   ]
  },
  {
   "cell_type": "markdown",
   "id": "0ae57efd-d258-406e-8244-6d2d0861d436",
   "metadata": {},
   "source": [
    "![tf Emotion Detection](./assets/MobileNetV3Small_Prediction_02.webp)"
   ]
  },
  {
   "cell_type": "code",
   "execution_count": null,
   "id": "c06be8a6",
   "metadata": {
    "scrolled": true
   },
   "outputs": [],
   "source": [
    "test_image_bgr = cv.imread('../dataset/snapshots/Water_Lilly.jpg')\n",
    "test_image_resized = cv.resize(test_image_bgr, (SIZE, SIZE))\n",
    "test_image_rgb = cv.cvtColor(test_image_resized, cv.COLOR_BGR2RGB)\n",
    "img = tf.constant(test_image_rgb, dtype=tf.float32)\n",
    "img = tf.expand_dims(img, axis=0)\n",
    "\n",
    "probs = mobilenet_model(img).numpy()\n",
    "label = LABELS[tf.argmax(probs, axis=1).numpy()[0]]\n",
    "\n",
    "print(label, str(probs[0]))\n",
    "\n",
    "plt.imshow(test_image_rgb)\n",
    "plt.title(label)\n",
    "plt.axis('off')\n",
    "        \n",
    "plt.savefig('assets/MobileNetV3Small_Prediction_03.webp', bbox_inches='tight')"
   ]
  },
  {
   "cell_type": "markdown",
   "id": "159984d0-f085-4d6c-b403-1a3cbd76c445",
   "metadata": {},
   "source": [
    "![tf Emotion Detection](./assets/MobileNetV3Small_Prediction_03.webp)"
   ]
  },
  {
   "cell_type": "code",
   "execution_count": null,
   "id": "354301e1",
   "metadata": {
    "scrolled": true
   },
   "outputs": [],
   "source": [
    "plt.figure(figsize=(16,16))\n",
    "\n",
    "for images, labels in testing_dataset.take(1):\n",
    "    for i in range(16):\n",
    "        ax = plt.subplot(4,4,i+1)\n",
    "        true = \"True: \" + LABELS[tf.argmax(labels[i], axis=0).numpy()]\n",
    "        pred = \"Predicted: \" + LABELS[\n",
    "            tf.argmax(mobilenet_model(tf.expand_dims(images[i], axis=0)).numpy(), axis=1).numpy()[0]\n",
    "        ]\n",
    "        plt.title(\n",
    "           true  + \"\\n\" + pred\n",
    "        )\n",
    "        plt.imshow(images[i]/255.)\n",
    "        plt.axis('off')\n",
    "        \n",
    "plt.savefig('assets/MobileNetV3Small_FT_03.webp', bbox_inches='tight')"
   ]
  },
  {
   "cell_type": "markdown",
   "id": "a1683278",
   "metadata": {},
   "source": [
    "![tf Emotion Detection](./assets/MobileNetV3Small_FT_03.webp)"
   ]
  },
  {
   "cell_type": "code",
   "execution_count": null,
   "id": "d778a6d7",
   "metadata": {},
   "outputs": [],
   "source": [
    "y_pred = []\n",
    "y_test = []\n",
    "\n",
    "for img, label in testing_dataset:\n",
    "    y_pred.append(mobilenet_model(img))\n",
    "    y_test.append(label.numpy())"
   ]
  },
  {
   "cell_type": "code",
   "execution_count": null,
   "id": "440ae3b3",
   "metadata": {
    "scrolled": true
   },
   "outputs": [],
   "source": [
    "conf_mtx = ConfusionMatrixDisplay(\n",
    "    confusion_matrix=confusion_matrix(\n",
    "        np.argmax(y_test[:-1], axis=-1).flatten(),\n",
    "        np.argmax(y_pred[:-1], axis=-1).flatten()\n",
    "    ),\n",
    "    display_labels=LABELS\n",
    ")\n",
    "\n",
    "fig, ax = plt.subplots(figsize=(16,12))\n",
    "conf_mtx.plot(ax=ax, cmap='plasma', include_values=True, xticks_rotation='vertical',)\n",
    "\n",
    "plt.savefig('assets/MobileNetV3Small_FT_04.webp', bbox_inches='tight')"
   ]
  },
  {
   "cell_type": "markdown",
   "id": "f01ec2e3",
   "metadata": {},
   "source": [
    "![tf Emotion Detection](./assets/MobileNetV3Small_FT_04.webp)"
   ]
  },
  {
   "cell_type": "markdown",
   "id": "3c782363",
   "metadata": {},
   "source": [
    "### Saving the Model"
   ]
  },
  {
   "cell_type": "code",
   "execution_count": null,
   "id": "7787720f",
   "metadata": {},
   "outputs": [],
   "source": [
    "tf.keras.saving.save_model(\n",
    "    mobilenet_model, '../saved_model/mobilenetv3S_model/1', overwrite=True, save_format='tf'\n",
    ")"
   ]
  },
  {
   "cell_type": "code",
   "execution_count": null,
   "id": "60163650",
   "metadata": {},
   "outputs": [],
   "source": [
    "# restore the model\n",
    "restored_model2 = tf.keras.saving.load_model('../saved_model/mobilenetv3S_model/1')"
   ]
  },
  {
   "cell_type": "code",
   "execution_count": null,
   "id": "97cf7271",
   "metadata": {},
   "outputs": [],
   "source": [
    "# Check its architecture\n",
    "restored_model2.summary()"
   ]
  },
  {
   "cell_type": "code",
   "execution_count": null,
   "id": "392b02ed",
   "metadata": {},
   "outputs": [],
   "source": [
    "restored_model2.evaluate(testing_dataset)\n",
    "# loss: 0.3562 - accuracy: 0.9100"
   ]
  }
 ],
 "metadata": {
  "jupytext": {
   "formats": "ipynb,md"
  },
  "kernelspec": {
   "display_name": "Python 3 (ipykernel)",
   "language": "python",
   "name": "python3"
  },
  "language_info": {
   "codemirror_mode": {
    "name": "ipython",
    "version": 3
   },
   "file_extension": ".py",
   "mimetype": "text/x-python",
   "name": "python",
   "nbconvert_exporter": "python",
   "pygments_lexer": "ipython3",
   "version": "3.8.10"
  }
 },
 "nbformat": 4,
 "nbformat_minor": 5
}
